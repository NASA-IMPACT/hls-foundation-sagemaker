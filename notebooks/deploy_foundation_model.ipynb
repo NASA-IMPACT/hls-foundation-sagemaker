{
 "cells": [
  {
   "cell_type": "markdown",
   "id": "0a9a9ee2-4e8e-4a9c-85df-0238097fc8bb",
   "metadata": {},
   "source": [
    "# Deploy HLS Foundation Model into Vertex AI "
   ]
  },
  {
   "cell_type": "code",
   "execution_count": null,
   "id": "b32ccbde-6710-4eb1-a26f-a84fe7b5a758",
   "metadata": {},
   "outputs": [],
   "source": [
    "%%writefile requirements.txt\n",
    "joblib~=1.0\n",
    "numpy~=1.20\n",
    "scikit-learn~=0.24\n",
    "google-cloud-storage>=1.26.0,<2.0.0dev\n",
    "     "
   ]
  },
  {
   "cell_type": "code",
   "execution_count": null,
   "id": "4675ed6e-ca6c-4071-9cca-6de02f45ad38",
   "metadata": {},
   "outputs": [],
   "source": [
    "# Clone github with inference code for HLS foundation model\n",
    "! git clone https://github.com/nasa-impact/hls-foundation-vertexai.git"
   ]
  },
  {
   "cell_type": "code",
   "execution_count": null,
   "id": "d811043a-a77c-4942-b657-e8ecb4932d25",
   "metadata": {},
   "outputs": [],
   "source": [
    "# Navigate inside hls-foundation-vertexai folder\n",
    "import os\n",
    "os.chdir('hls-foundation-vertexai')"
   ]
  },
  {
   "cell_type": "code",
   "execution_count": null,
   "id": "6914c763-687c-4ff7-b461-65c8905db118",
   "metadata": {},
   "outputs": [],
   "source": [
    "# Required in Docker serving container\n",
    "! pip3 install -U  -r requirements.txt -q --user\n",
    "\n",
    "# For local FastAPI development and running\n",
    "! pip3 install -U  \"uvicorn[standard]>=0.12.0,<0.14.0\" fastapi~=0.63 -q --user\n",
    "\n",
    "# Vertex SDK for Python\n",
    "! pip3 install --upgrade --quiet  google-cloud-aiplatform --user\n",
    "     "
   ]
  },
  {
   "cell_type": "code",
   "execution_count": null,
   "id": "b76543d0-12bc-4eec-81d2-0b4b740e59b5",
   "metadata": {},
   "outputs": [],
   "source": [
    "# List configuration\n",
    "! gcloud config list"
   ]
  },
  {
   "cell_type": "code",
   "execution_count": null,
   "id": "1f07bd35-6774-473f-84d1-4c50cf32e7d0",
   "metadata": {},
   "outputs": [],
   "source": [
    "# List projects\n",
    "! gcloud projects list"
   ]
  },
  {
   "cell_type": "code",
   "execution_count": null,
   "id": "55e0da3a-9492-4abf-8c81-8d80ec1a0e7c",
   "metadata": {},
   "outputs": [],
   "source": [
    "# Replace <project-id> with one of the project ids from above.\n",
    "! gcloud builds submit --region=us-central1 --tag=us-central1-docker.pkg.dev/<project-id>/hls-foundation-vertexai/inference"
   ]
  },
  {
   "cell_type": "markdown",
   "id": "d7917667-ef92-4bc1-ad5d-a39031c57134",
   "metadata": {},
   "source": [
    "## Use python to deploy HLS foundation model to vertexai endpoint "
   ]
  },
  {
   "cell_type": "code",
   "execution_count": null,
   "id": "a8329388-ef3a-4551-9357-2f12bb3c1000",
   "metadata": {},
   "outputs": [],
   "source": [
    "from google.cloud import aiplatform"
   ]
  },
  {
   "cell_type": "code",
   "execution_count": null,
   "id": "7989e754-eebb-432d-9b7e-2773a9d5a501",
   "metadata": {},
   "outputs": [],
   "source": [
    "model = aiplatform.Model.upload(\n",
    "    display_name='hls-inference',\n",
    "    serving_container_image_uri=\"us-central1-docker.pkg.dev/msfc-st11-impact-3a77f55d/hls-foundation-vertexai/inference\",\n",
    ")"
   ]
  },
  {
   "cell_type": "code",
   "execution_count": null,
   "id": "1f1e55c2-5ddd-4018-918b-2b0d24923477",
   "metadata": {},
   "outputs": [],
   "source": [
    "model\n"
   ]
  },
  {
   "cell_type": "code",
   "execution_count": null,
   "id": "264ccbdc-6bc9-4f9e-846d-aa48cda768c2",
   "metadata": {},
   "outputs": [],
   "source": [
    "endpoint = model.deploy(machine_type=\"n1-standard-4\", accelerator_type='NVIDIA_TESLA_V100', accelerator_count=1)"
   ]
  },
  {
   "cell_type": "code",
   "execution_count": null,
   "id": "dafd66c9-2916-4192-a6d0-a77ccab6589d",
   "metadata": {},
   "outputs": [],
   "source": [
    "%%writefile test.json\n",
    "{\n",
    "  \"instances\":{\"date\":\"2023-08-13\",\"bounding_box\":[-156.81605703476012,20.69675592885614,-156.41605703476014,21.096755928856137], \"model_id\": \"burn_scars\"},\n",
    "}\n"
   ]
  },
  {
   "cell_type": "code",
   "execution_count": null,
   "id": "cda5112b-c5bf-46b0-a5f5-cd6567c90449",
   "metadata": {},
   "outputs": [],
   "source": [
    "# Get inference from the deployed endpoint. Copy over the endpoint id from above and replace <ENDPOINT_ID>, and project id from about to replace <PROJECT_ID>\n",
    "! export ENDPOINT_ID=<ENDPOINT_ID>; export PROJECT_ID=<PROJECT_ID>; export INPUT_DATA_FILE=\"test.json\"; curl \\\n",
    "-X POST \\\n",
    "-H \"Authorization: Bearer $(gcloud auth print-access-token)\" \\\n",
    "-H \"Content-Type: application/json\" \\\n",
    "https://us-central1-aiplatform.googleapis.com/v1/projects/${PROJECT_ID}/locations/us-central1/endpoints/${ENDPOINT_ID}:predict \\\n",
    "-d \"@${INPUT_DATA_FILE}\"\n"
   ]
  },
  {
   "cell_type": "code",
   "execution_count": null,
   "id": "76eb8794-c6d0-4dfd-b78d-bd88f3e333f6",
   "metadata": {},
   "outputs": [],
   "source": []
  }
 ],
 "metadata": {
  "kernelspec": {
   "display_name": "Python (Local)",
   "language": "python",
   "name": "local-base"
  },
  "language_info": {
   "codemirror_mode": {
    "name": "ipython",
    "version": 3
   },
   "file_extension": ".py",
   "mimetype": "text/x-python",
   "name": "python",
   "nbconvert_exporter": "python",
   "pygments_lexer": "ipython3",
   "version": "3.7.12"
  }
 },
 "nbformat": 4,
 "nbformat_minor": 5
}
